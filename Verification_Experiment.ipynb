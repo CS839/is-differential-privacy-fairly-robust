{
  "nbformat": 4,
  "nbformat_minor": 0,
  "metadata": {
    "colab": {
      "name": "Verification_Experiment.ipynb",
      "provenance": [],
      "collapsed_sections": [],
      "toc_visible": true
    },
    "kernelspec": {
      "name": "python3",
      "display_name": "Python 3"
    }
  },
  "cells": [
    {
      "cell_type": "markdown",
      "metadata": {
        "id": "JDmFtAunW5lq",
        "colab_type": "text"
      },
      "source": [
        "[![Open In Colab](https://colab.research.google.com/assets/colab-badge.svg)](https://colab.research.google.com/github/googlecolab/colabtools/blob/master/notebooks/colab-github-demo.ipynb)"
      ]
    },
    {
      "cell_type": "code",
      "metadata": {
        "id": "sGr8p1EnBt8-",
        "colab_type": "code",
        "colab": {}
      },
      "source": [
        "!git clone https://github.com/eth-sri/ERAN.git"
      ],
      "execution_count": 0,
      "outputs": []
    },
    {
      "cell_type": "code",
      "metadata": {
        "id": "65VD2JFfEtR5",
        "colab_type": "code",
        "colab": {}
      },
      "source": [
        "%cd ERAN"
      ],
      "execution_count": 0,
      "outputs": []
    },
    {
      "cell_type": "markdown",
      "metadata": {
        "id": "EGQgkbFVFvZD",
        "colab_type": "text"
      },
      "source": [
        "### Install M4"
      ]
    },
    {
      "cell_type": "code",
      "metadata": {
        "id": "xQB0IiM8F5VP",
        "colab_type": "code",
        "colab": {}
      },
      "source": [
        "!wget ftp://ftp.gnu.org/gnu/m4/m4-1.4.1.tar.gz\n",
        "!tar -xvzf m4-1.4.1.tar.gz"
      ],
      "execution_count": 0,
      "outputs": []
    },
    {
      "cell_type": "code",
      "metadata": {
        "id": "26n4-tDlF-ff",
        "colab_type": "code",
        "colab": {}
      },
      "source": [
        "%cd m4-1.4.1"
      ],
      "execution_count": 0,
      "outputs": []
    },
    {
      "cell_type": "code",
      "metadata": {
        "id": "tHPq6n2sGTjD",
        "colab_type": "code",
        "colab": {}
      },
      "source": [
        "!./configure"
      ],
      "execution_count": 0,
      "outputs": []
    },
    {
      "cell_type": "code",
      "metadata": {
        "id": "b0ojz8fbGYer",
        "colab_type": "code",
        "colab": {}
      },
      "source": [
        "!make\n",
        "!make install"
      ],
      "execution_count": 0,
      "outputs": []
    },
    {
      "cell_type": "code",
      "metadata": {
        "id": "-ePmCiPoGihK",
        "colab_type": "code",
        "colab": {}
      },
      "source": [
        "!cp src/m4 /usr/bin"
      ],
      "execution_count": 0,
      "outputs": []
    },
    {
      "cell_type": "code",
      "metadata": {
        "id": "WMh_ccXJG-eW",
        "colab_type": "code",
        "colab": {}
      },
      "source": [
        "%cd .."
      ],
      "execution_count": 0,
      "outputs": []
    },
    {
      "cell_type": "code",
      "metadata": {
        "id": "fXzYbMWtHLd8",
        "colab_type": "code",
        "colab": {}
      },
      "source": [
        "!rm m4-1.4.1.tar.gz"
      ],
      "execution_count": 0,
      "outputs": []
    },
    {
      "cell_type": "markdown",
      "metadata": {
        "id": "JOFXlVuxHXOx",
        "colab_type": "text"
      },
      "source": [
        "### Install gmp"
      ]
    },
    {
      "cell_type": "code",
      "metadata": {
        "id": "KmwfPdNPHWOl",
        "colab_type": "code",
        "colab": {}
      },
      "source": [
        "!wget https://gmplib.org/download/gmp/gmp-6.1.2.tar.xz\n",
        "!tar -xvf gmp-6.1.2.tar.xz"
      ],
      "execution_count": 0,
      "outputs": []
    },
    {
      "cell_type": "code",
      "metadata": {
        "id": "UUV4Kr2yHQek",
        "colab_type": "code",
        "colab": {}
      },
      "source": [
        "%cd gmp-6.1.2"
      ],
      "execution_count": 0,
      "outputs": []
    },
    {
      "cell_type": "code",
      "metadata": {
        "id": "UKz7SbalHrKg",
        "colab_type": "code",
        "colab": {}
      },
      "source": [
        "!./configure --enable-cxx"
      ],
      "execution_count": 0,
      "outputs": []
    },
    {
      "cell_type": "code",
      "metadata": {
        "id": "5USCwTKrHu7P",
        "colab_type": "code",
        "colab": {}
      },
      "source": [
        "!make\n",
        "!make install"
      ],
      "execution_count": 0,
      "outputs": []
    },
    {
      "cell_type": "code",
      "metadata": {
        "id": "Qoc1P-epH5XW",
        "colab_type": "code",
        "colab": {}
      },
      "source": [
        "!make check"
      ],
      "execution_count": 0,
      "outputs": []
    },
    {
      "cell_type": "code",
      "metadata": {
        "id": "OnVJYXIyI4W-",
        "colab_type": "code",
        "colab": {}
      },
      "source": [
        "%cd .."
      ],
      "execution_count": 0,
      "outputs": []
    },
    {
      "cell_type": "code",
      "metadata": {
        "id": "_GRsOIYoJgFo",
        "colab_type": "code",
        "colab": {}
      },
      "source": [
        "!rm gmp-6.1.2.tar.xz"
      ],
      "execution_count": 0,
      "outputs": []
    },
    {
      "cell_type": "markdown",
      "metadata": {
        "id": "hQYe-vTZJkYk",
        "colab_type": "text"
      },
      "source": [
        "### Install mpfr"
      ]
    },
    {
      "cell_type": "code",
      "metadata": {
        "id": "afAYnPOcJi9h",
        "colab_type": "code",
        "colab": {}
      },
      "source": [
        "!wget https://www.mpfr.org/mpfr-current/mpfr-4.0.2.tar.xz\n",
        "!tar -xvf mpfr-4.0.2.tar.xz"
      ],
      "execution_count": 0,
      "outputs": []
    },
    {
      "cell_type": "code",
      "metadata": {
        "id": "M-upfqhOJupn",
        "colab_type": "code",
        "colab": {}
      },
      "source": [
        "%cd mpfr-4.0.2"
      ],
      "execution_count": 0,
      "outputs": []
    },
    {
      "cell_type": "code",
      "metadata": {
        "id": "VCHfZRpqJ0B3",
        "colab_type": "code",
        "colab": {}
      },
      "source": [
        "!./configure"
      ],
      "execution_count": 0,
      "outputs": []
    },
    {
      "cell_type": "code",
      "metadata": {
        "id": "EAVSIZ_qJ5ol",
        "colab_type": "code",
        "colab": {}
      },
      "source": [
        "!make\n",
        "!make install"
      ],
      "execution_count": 0,
      "outputs": []
    },
    {
      "cell_type": "code",
      "metadata": {
        "id": "4FhacCq8KAJM",
        "colab_type": "code",
        "colab": {}
      },
      "source": [
        "%cd .."
      ],
      "execution_count": 0,
      "outputs": []
    },
    {
      "cell_type": "code",
      "metadata": {
        "id": "9bb6t4jmKyri",
        "colab_type": "code",
        "colab": {}
      },
      "source": [
        "!rm mpfr-4.0.2.tar.xz"
      ],
      "execution_count": 0,
      "outputs": []
    },
    {
      "cell_type": "markdown",
      "metadata": {
        "id": "xxRljKHUK3ZH",
        "colab_type": "text"
      },
      "source": [
        "### Install ELINA"
      ]
    },
    {
      "cell_type": "code",
      "metadata": {
        "id": "qJC6wSr3K2bW",
        "colab_type": "code",
        "colab": {}
      },
      "source": [
        "!git clone https://github.com/eth-sri/ELINA.git"
      ],
      "execution_count": 0,
      "outputs": []
    },
    {
      "cell_type": "code",
      "metadata": {
        "id": "nFKEHYaQK-Az",
        "colab_type": "code",
        "colab": {}
      },
      "source": [
        "%cd ELINA"
      ],
      "execution_count": 0,
      "outputs": []
    },
    {
      "cell_type": "code",
      "metadata": {
        "id": "OU4dD5zELC80",
        "colab_type": "code",
        "colab": {}
      },
      "source": [
        "!./configure"
      ],
      "execution_count": 0,
      "outputs": []
    },
    {
      "cell_type": "code",
      "metadata": {
        "id": "OlJTRJxgLGJm",
        "colab_type": "code",
        "colab": {}
      },
      "source": [
        "!make\n",
        "!make install"
      ],
      "execution_count": 0,
      "outputs": []
    },
    {
      "cell_type": "code",
      "metadata": {
        "id": "_6o_oZMiLKnr",
        "colab_type": "code",
        "colab": {}
      },
      "source": [
        "%cd .."
      ],
      "execution_count": 0,
      "outputs": []
    },
    {
      "cell_type": "markdown",
      "metadata": {
        "id": "F6kOAVKsLWni",
        "colab_type": "text"
      },
      "source": [
        "### Install Gurobi"
      ]
    },
    {
      "cell_type": "code",
      "metadata": {
        "id": "BBSAsxknLV9S",
        "colab_type": "code",
        "colab": {}
      },
      "source": [
        "!wget https://packages.gurobi.com/9.0/gurobi9.0.0_linux64.tar.gz\n",
        "!tar -xvf gurobi9.0.0_linux64.tar.gz"
      ],
      "execution_count": 0,
      "outputs": []
    },
    {
      "cell_type": "code",
      "metadata": {
        "id": "y3B-76PzLejf",
        "colab_type": "code",
        "colab": {}
      },
      "source": [
        "%cd gurobi900/linux64/src/build"
      ],
      "execution_count": 0,
      "outputs": []
    },
    {
      "cell_type": "code",
      "metadata": {
        "id": "qDqIN5sILiKs",
        "colab_type": "code",
        "colab": {}
      },
      "source": [
        "!sed -ie 's/^C++FLAGS =.*$/& -fPIC/' Makefile\n",
        "!make"
      ],
      "execution_count": 0,
      "outputs": []
    },
    {
      "cell_type": "code",
      "metadata": {
        "id": "l9NVzwnnLmVX",
        "colab_type": "code",
        "colab": {}
      },
      "source": [
        "!cp libgurobi_c++.a ../../lib/"
      ],
      "execution_count": 0,
      "outputs": []
    },
    {
      "cell_type": "code",
      "metadata": {
        "id": "Oa-bZIetLsFe",
        "colab_type": "code",
        "colab": {}
      },
      "source": [
        "%cd ../../"
      ],
      "execution_count": 0,
      "outputs": []
    },
    {
      "cell_type": "code",
      "metadata": {
        "id": "ShNu5yfqLwCe",
        "colab_type": "code",
        "colab": {}
      },
      "source": [
        "!cp lib/libgurobi90.so /usr/lib\n",
        "!python3 setup.py install"
      ],
      "execution_count": 0,
      "outputs": []
    },
    {
      "cell_type": "code",
      "metadata": {
        "id": "EavL5kWhL4BY",
        "colab_type": "code",
        "colab": {}
      },
      "source": [
        "%cd ../../"
      ],
      "execution_count": 0,
      "outputs": []
    },
    {
      "cell_type": "markdown",
      "metadata": {
        "id": "lWcneVxkMAE7",
        "colab_type": "text"
      },
      "source": [
        "### Update environment variables:"
      ]
    },
    {
      "cell_type": "code",
      "metadata": {
        "id": "oalUkGogL_SC",
        "colab_type": "code",
        "colab": {}
      },
      "source": [
        "%env GUROBI_HOME=/content/ERAN/gurobi900/linux64\n",
        "gurobi_home = %env GUROBI_HOME\n",
        "%env PATH\n",
        "path = %env PATH\n",
        "path += ':' + gurobi_home\n",
        "print(path)\n",
        "%env PATH=$path\n",
        "ld_library_path = %env LD_LIBRARY_PATH\n",
        "ld_library_path += ':' + gurobi_home\n",
        "print(ld_library_path)\n",
        "%env LD_LIBRARY_PATH=$ld_library_path"
      ],
      "execution_count": 0,
      "outputs": []
    },
    {
      "cell_type": "markdown",
      "metadata": {
        "id": "eUTGvt1LMN05",
        "colab_type": "text"
      },
      "source": [
        "### Install DeepG"
      ]
    },
    {
      "cell_type": "code",
      "metadata": {
        "id": "_9T9UjhzL7cV",
        "colab_type": "code",
        "colab": {}
      },
      "source": [
        "!rm -r deepg\n",
        "!git clone https://github.com/eth-sri/deepg.git"
      ],
      "execution_count": 0,
      "outputs": []
    },
    {
      "cell_type": "code",
      "metadata": {
        "id": "pVLq8SyNMStz",
        "colab_type": "code",
        "colab": {}
      },
      "source": [
        "%cd deepg/code"
      ],
      "execution_count": 0,
      "outputs": []
    },
    {
      "cell_type": "code",
      "metadata": {
        "id": "xvdCYUaus_-5",
        "colab_type": "code",
        "colab": {}
      },
      "source": [
        "!sed s/81/90/ <Makefile >Makefile2\n",
        "!sed s/build/./ <Makefile2 >Makefile3\n",
        "!rm Makefile Makefile2\n",
        "!mv Makefile3 Makefile"
      ],
      "execution_count": 0,
      "outputs": []
    },
    {
      "cell_type": "code",
      "metadata": {
        "id": "SsuGgXviMVIZ",
        "colab_type": "code",
        "colab": {}
      },
      "source": [
        "!mkdir build\n",
        "!make shared_object"
      ],
      "execution_count": 0,
      "outputs": []
    },
    {
      "cell_type": "code",
      "metadata": {
        "id": "6VVrk8bvMZdt",
        "colab_type": "code",
        "colab": {}
      },
      "source": [
        "!cp ./build/libgeometric.so /usr/lib\n",
        "!cd ../.."
      ],
      "execution_count": 0,
      "outputs": []
    },
    {
      "cell_type": "code",
      "metadata": {
        "id": "7DquQcP58eWo",
        "colab_type": "code",
        "colab": {}
      },
      "source": [
        "!ldconfig"
      ],
      "execution_count": 0,
      "outputs": []
    },
    {
      "cell_type": "markdown",
      "metadata": {
        "id": "V8IC0OZEUic3",
        "colab_type": "text"
      },
      "source": [
        "\n",
        "### Install other requirements\n"
      ]
    },
    {
      "cell_type": "code",
      "metadata": {
        "id": "hSUdHZrPUqiw",
        "colab_type": "code",
        "colab": {}
      },
      "source": [
        "%cd ../.."
      ],
      "execution_count": 0,
      "outputs": []
    },
    {
      "cell_type": "code",
      "metadata": {
        "id": "FW3WRZXpUgJI",
        "colab_type": "code",
        "colab": {}
      },
      "source": [
        "!sed \"s/tensorflow/tensorflow<2/\" < requirements.txt >requirements2.txt\n",
        "!rm requirements.txt\n",
        "!mv requirements2.txt requirements.txt\n",
        "!pip3 install -r requirements.txt"
      ],
      "execution_count": 0,
      "outputs": []
    },
    {
      "cell_type": "markdown",
      "metadata": {
        "id": "mo_XQY5l6RE_",
        "colab_type": "text"
      },
      "source": [
        "---\n",
        "----"
      ]
    },
    {
      "cell_type": "code",
      "metadata": {
        "id": "1TCIZYSACIhO",
        "colab_type": "code",
        "colab": {}
      },
      "source": [
        "#%cd /content"
      ],
      "execution_count": 0,
      "outputs": []
    },
    {
      "cell_type": "code",
      "metadata": {
        "id": "dyEAGeTmp3sc",
        "colab_type": "code",
        "colab": {}
      },
      "source": [
        "#!mkdir /content/test_output"
      ],
      "execution_count": 0,
      "outputs": []
    },
    {
      "cell_type": "code",
      "metadata": {
        "id": "6vhVCsufa7L4",
        "colab_type": "code",
        "colab": {}
      },
      "source": [
        "#!wget -O mnist.tf https://files.sri.inf.ethz.ch/eran/nets/tensorflow/mnist/mnist_relu_3_50.tf"
      ],
      "execution_count": 0,
      "outputs": []
    },
    {
      "cell_type": "markdown",
      "metadata": {
        "id": "e4VIQVK90RTS",
        "colab_type": "text"
      },
      "source": [
        "## Differential "
      ]
    },
    {
      "cell_type": "code",
      "metadata": {
        "id": "-2IIcxSM4rIs",
        "colab_type": "code",
        "colab": {}
      },
      "source": [
        "%cd /content"
      ],
      "execution_count": 0,
      "outputs": []
    },
    {
      "cell_type": "code",
      "metadata": {
        "id": "dybbGw3L7vTu",
        "colab_type": "code",
        "colab": {}
      },
      "source": [
        "from __future__ import absolute_import\n",
        "from __future__ import division\n",
        "from __future__ import print_function\n",
        "\n",
        "# try:\n",
        "#     %tensorflow version 1.x\n",
        "# except Exception:\n",
        "#     pass\n",
        "\n",
        "%tensorflow_version 1.x\n",
        "\n",
        "import tensorflow as tf\n",
        "import numpy as np\n",
        "import os\n",
        "\n",
        "if not os.path.exists(\"/content/model_ckpts\"):\n",
        "    os.makedirs(\"/content/model_ckpts\")"
      ],
      "execution_count": 0,
      "outputs": []
    },
    {
      "cell_type": "code",
      "metadata": {
        "id": "jCkhhK0H1Ehk",
        "colab_type": "code",
        "colab": {}
      },
      "source": [
        "!pip install tensorflow_privacy\n",
        "\n",
        "from tensorflow_privacy.privacy.analysis import compute_dp_sgd_privacy\n",
        "from tensorflow_privacy.privacy.optimizers.dp_optimizer import DPGradientDescentGaussianOptimizer\n",
        "#from tensorflow_privacy.privacy.optimizers.dp_optimizer import DPAdamGaussianOptimizer"
      ],
      "execution_count": 0,
      "outputs": []
    },
    {
      "cell_type": "markdown",
      "metadata": {
        "id": "OzUf_GlX1Owp",
        "colab_type": "text"
      },
      "source": [
        "## Loading Data"
      ]
    },
    {
      "cell_type": "code",
      "metadata": {
        "id": "CzVlsuq51RFQ",
        "colab_type": "code",
        "colab": {}
      },
      "source": [
        "train, test = tf.keras.datasets.mnist.load_data()\n",
        "train_data, train_labels = train\n",
        "test_data, test_labels = test\n",
        "\n",
        "train_data = np.array(train_data, dtype = np.float32)/255\n",
        "test_data = np.array(test_data, dtype=np.float32)/255\n",
        "\n",
        "train_data = train_data.reshape(train_data.shape[0], 28, 28, 1)\n",
        "test_data = test_data.reshape(test_data.shape[0], 28, 28, 1)\n",
        "\n",
        "train_labels = np.array(train_labels, dtype= np.int32)\n",
        "test_labels = np.array(test_labels, dtype= np.int32)\n"
      ],
      "execution_count": 0,
      "outputs": []
    },
    {
      "cell_type": "markdown",
      "metadata": {
        "id": "BoHuIRk82KbL",
        "colab_type": "text"
      },
      "source": [
        "### Params"
      ]
    },
    {
      "cell_type": "code",
      "metadata": {
        "id": "249hfWaa2NqK",
        "colab_type": "code",
        "colab": {}
      },
      "source": [
        "epochs = 15\n",
        "batch_size = 250\n",
        "\n",
        "l2_norm_clip = 1.5\n",
        "noise_multiplier = 1.3\n",
        "num_microbatches = 250\n",
        "learning_rate = 0.25\n",
        "\n",
        "if batch_size % num_microbatches != 0:\n",
        "    raise ValueError('Batch size should be an integer multuple of the number of microbatches')"
      ],
      "execution_count": 0,
      "outputs": []
    },
    {
      "cell_type": "markdown",
      "metadata": {
        "id": "ItsrJaJ53BhS",
        "colab_type": "text"
      },
      "source": [
        "### Data Prep"
      ]
    },
    {
      "cell_type": "code",
      "metadata": {
        "id": "Bklwklu_KtGa",
        "colab_type": "code",
        "colab": {}
      },
      "source": [
        "def create_tf_file(model, path):\n",
        "    # Create the .tf file manually as expected by ERAN\n",
        "    with open(path, 'w') as f:\n",
        "        for layer in model.layers:\n",
        "            if isinstance(layer, tf.keras.layers.Conv2D):\n",
        "                f.write('Conv2D\\n')\n",
        "                activation = tf.keras.activations.serialize(layer.activation)\n",
        "                if activation == 'relu':\n",
        "                    f.write('ReLU')\n",
        "                # add more here\n",
        "                f.write(', ')\n",
        "                f.write('filters={0}, '.format(layer.filters))\n",
        "                f.write('stride={0}, '.format(list(layer.strides)))\n",
        "                f.write('kernel_size={0}, '.format(list(layer.kernel_size)))\n",
        "                f.write('input_shape={0}, '.format([i for i in layer.input_shape if i is not None]))\n",
        "                f.write('padding={0}\\n'.format(1 if layer.padding == 'same' else 0))\n",
        "                for w in layer.get_weights():\n",
        "                    f.write(str(np.ndarray.tolist(w)))\n",
        "                    f.write('\\n')\n",
        "            elif isinstance(layer, tf.keras.layers.MaxPool2D):\n",
        "                f.write('MaxPooling2D\\n')\n",
        "                f.write('pool_size={0}, '.format(list(layer.pool_size)))\n",
        "                f.write('stride={0}, '.format(list(layer.strides)))\n",
        "                f.write('input_shape={0}\\n'.format([i for i in layer.input_shape if i is not None]))\n",
        "            elif isinstance(layer, tf.keras.layers.Flatten):\n",
        "                pass # Flattened by Dense layer. See https://github.com/eth-sri/eran/blob/master/tf_verify/read_net_file.py#L117\n",
        "            elif isinstance(layer, tf.keras.layers.Dense):\n",
        "                activation = tf.keras.activations.serialize(layer.activation)\n",
        "                if activation == 'relu':\n",
        "                    f.write('ReLU')\n",
        "                elif activation == 'softmax':\n",
        "                    f.write('Affine') # TODO not strictly true\n",
        "                f.write('\\n')\n",
        "                for w in layer.get_weights():\n",
        "                    f.write(str(np.ndarray.tolist(w.transpose())))\n",
        "                    f.write('\\n')"
      ],
      "execution_count": 0,
      "outputs": []
    },
    {
      "cell_type": "code",
      "metadata": {
        "id": "fDuiZWJU3Fno",
        "colab_type": "code",
        "colab": {}
      },
      "source": [
        "# We are truncated '8'\n",
        "TRUCATED_PROBs = [0, 0.2, 0.4, 0.6, 0.8, 0.99]\n",
        "DIFF_LABEL = 8\n",
        "\n",
        "for TRUCATED_PROB in TRUCATED_PROBs:\n",
        "    print(\"TRUCATED_PROB :::\",TRUCATED_PROB)\n",
        "\n",
        "    #Truncating\n",
        "    indices = [i for i in np.arange(train_labels.shape[0])\n",
        "    if np.random.random() >= TRUCATED_PROB or train_labels[i] != DIFF_LABEL]\n",
        "\n",
        "    # Truncate to integer multiple of batch size (due to \n",
        "    #https://github.com/tensorflow/privacy/issues/40)\n",
        "    indices = indices[:(len(indices) // batch_size * batch_size)]\n",
        "\n",
        "    #indices = indices[np.random.permutation(len(indices))]\n",
        "\n",
        "    # Filter the train_data and train_labels by those indices\n",
        "    truncated_train_data = train_data[indices]\n",
        "    truncated_train_labels = train_labels[indices]\n",
        "    for i,c in enumerate(np.bincount(truncated_train_labels)):\n",
        "        print(f'Number of training samples for label {i} :{c}')\n",
        "\n",
        "    truncated_train_labels_ohe = tf.keras.utils.to_categorical(truncated_train_labels,\n",
        "                                                        num_classes= 10)\n",
        "    test_labels_ohe = tf.keras.utils.to_categorical(test_labels, \n",
        "                                                num_classes= 10)\n",
        "    \n",
        "    #Building the learning model\n",
        "    model = tf.keras.Sequential([\n",
        "    tf.keras.layers.Conv2D(16, 8,\n",
        "                           strides=2,\n",
        "                           padding='same',\n",
        "                           activation='relu',\n",
        "                           input_shape=(28, 28, 1)),\n",
        "    tf.keras.layers.MaxPool2D(2, 1),\n",
        "    tf.keras.layers.Conv2D(32, 4,\n",
        "                           strides=2,\n",
        "                           padding='valid',\n",
        "                           activation='relu'),\n",
        "    tf.keras.layers.MaxPool2D(2, 1),\n",
        "    tf.keras.layers.Flatten(),\n",
        "    tf.keras.layers.Dense(32, activation='relu'),\n",
        "    tf.keras.layers.Dense(10, activation='softmax')\n",
        "    ])\n",
        "\n",
        "    optimizer = DPGradientDescentGaussianOptimizer(\n",
        "        l2_norm_clip=l2_norm_clip,\n",
        "        noise_multiplier=noise_multiplier,\n",
        "        num_microbatches=num_microbatches,\n",
        "        learning_rate=learning_rate)\n",
        "\n",
        "    loss = tf.keras.losses.CategoricalCrossentropy(\n",
        "        from_logits=True, reduction=tf.losses.Reduction.NONE)\n",
        "    \n",
        "\n",
        "    model.compile(optimizer=optimizer, loss=loss, metrics=['accuracy'])\n",
        "\n",
        "    model.fit(truncated_train_data, truncated_train_labels_ohe,\n",
        "            epochs=epochs,\n",
        "            validation_data=(test_data, test_labels_ohe),\n",
        "            batch_size=batch_size)\n",
        "    model_path = f'/content/model_ckpts/mnist_TRUCATED_PROB_{TRUCATED_PROB}.tf'\n",
        "    create_tf_file(model, model_path)\n"
      ],
      "execution_count": 0,
      "outputs": []
    },
    {
      "cell_type": "markdown",
      "metadata": {
        "id": "8YKiYkWo3UAX",
        "colab_type": "text"
      },
      "source": [
        "## Building the learning model"
      ]
    },
    {
      "cell_type": "code",
      "metadata": {
        "id": "LXz4kYrM5MiV",
        "colab_type": "code",
        "colab": {}
      },
      "source": [
        "for i in range(10):\n",
        "    i_idx = test_labels == i\n",
        "    results = model.evaluate(test_data[i_idx], test_labels_ohe[i_idx],\n",
        "                             batch_size=1, verbose=0)\n",
        "    print('Accuracy for label ' + str(i) + ': ' + str(results[1]) + '. Number of test samples: ' + str(np.sum(i_idx)))"
      ],
      "execution_count": 0,
      "outputs": []
    },
    {
      "cell_type": "markdown",
      "metadata": {
        "id": "_0i9PJF5NR1t",
        "colab_type": "text"
      },
      "source": [
        "### Test"
      ]
    },
    {
      "cell_type": "code",
      "metadata": {
        "id": "F-RdgcTYRYeq",
        "colab_type": "code",
        "colab": {}
      },
      "source": [
        "%cd /content/ERAN/tf_verify"
      ],
      "execution_count": 0,
      "outputs": []
    },
    {
      "cell_type": "code",
      "metadata": {
        "id": "EqOjZIY8vRZ1",
        "colab_type": "code",
        "colab": {}
      },
      "source": [
        "import os\n",
        "from google.colab import files\n",
        "\n",
        "test_out_dir = '/content/test_output/'\n",
        "if not os.path.exists(test_out_dir):\n",
        "        os.makedirs(test_out_dir)\n",
        "\n",
        "def make_data_for_test(digit, test_counts = 50):\n",
        "    line_counts = 0\n",
        "    digit_data_dir = f\"/content/mnist{digit}/\"\n",
        "    if not os.path.exists(digit_data_dir):\n",
        "        os.makedirs(digit_data_dir)\n",
        "    \n",
        "    #os.mkdir(\"/content/mnist_splits/\")\n",
        "    with open('/content/sample_data/mnist_test.csv','r') as f:\n",
        "        with open(f'/content/mnist{digit}/mnist_test_d{digit}.csv','w') as fw:\n",
        "            for l in f.readlines():\n",
        "                if l.split(',')[0] == digit:\n",
        "                    line_counts += 1\n",
        "                    fw.write(l)\n",
        "                    if line_counts >= test_counts:\n",
        "                        break\n",
        "\n",
        "def data_clean_up(digit):\n",
        "    digit_data_file = f'/content/mnist{digit}/mnist_test_d{digit}.csv'\n",
        "    if not os.path.exists(digit_data_file):\n",
        "        os.remove(digit_data_file)\n",
        "        os.rmdir(f\"/content/mnist{digit}/\")\n",
        "\n",
        "epsilons = [0.000001, 0.00001, 0.0001, 0.001, 0.01, 0.1]\n",
        "\n",
        "def run_robust_tests(digit):\n",
        "    #os.system(\"cp /content/sample_data/mnist_test.csv /content/ERAN/data/mnist_test.csv\")\n",
        "    model_files = os.listdir('/content/model_ckpts/')\n",
        "    model_files = [f for f in model_files if f[-11:] != 'checkpoints']\n",
        "    for model_f in model_files:\n",
        "        print(model_f)\n",
        "        prob = model_f[:-3].split(\"_\")[3]\n",
        "        for eps in epsilons:\n",
        "            eps = str('{0:.7f}'.format(eps))\n",
        "            print(f'=======prob :{prob}  eps :{eps}=======')\n",
        "            #create output file\n",
        "            os.system(f'touch /content/test_output/test{digit}_result_prob{prob}_eps{eps}.txt')\n",
        "            print(f\"Data split\")\n",
        "            #copy data to required locations\n",
        "            os.system(f'cp /content/mnist{digit}/mnist_test_d{digit}.csv /content/ERAN/data/mnist_test.csv')\n",
        "            os.system(f'cp /content/mnist{digit}/mnist_test_d{digit}.csv /content/ERAN/deepg/code/datasets/mnist_test.csv')\n",
        "\n",
        "            console_cmd = f'python3 . --netname /content/model_ckpts/{model_f} --epsilon {eps} --domain deepzono \\\n",
        "                            --dataset mnist >> /content/test_output/test{digit}_result_prob{prob}_eps{eps}.txt'\n",
        "            os.system(console_cmd)\n",
        "\n",
        "            files.download(f'/content/test_output/test{digit}_result_prob{prob}_eps{eps}.txt')\n",
        "\n",
        "def run_robust_single_label(digit):\n",
        "    digit = str(digit)\n",
        "    make_data_for_test(digit)\n",
        "    run_robust_tests(digit)\n",
        "    data_clean_up(digit)\n",
        "\n",
        "#run_robust_single_label(1)\n",
        "all_digits = [0, 1, 2, 3, 4, 5, 6, 7, 8, 9]\n",
        "for d in all_digits:\n",
        "    print(f\"####### Processing for: {d}\")\n",
        "    run_robust_single_label(d)\n"
      ],
      "execution_count": 0,
      "outputs": []
    },
    {
      "cell_type": "code",
      "metadata": {
        "id": "EdqP9D8yG2s-",
        "colab_type": "code",
        "colab": {}
      },
      "source": [
        "#!python3 . --netname /content/model_ckpts/mnist_TRUCATED_PROB_0.6.tf --epsilon .1 --domain deepzono --dataset mnist > /content/test_output/test_result_prob0.6_eps0.01.txt"
      ],
      "execution_count": 0,
      "outputs": []
    },
    {
      "cell_type": "markdown",
      "metadata": {
        "id": "ynl-5aJhVkAR",
        "colab_type": "text"
      },
      "source": [
        "## Result Analysis"
      ]
    },
    {
      "cell_type": "code",
      "metadata": {
        "id": "N7nzNPPxWI2y",
        "colab_type": "code",
        "colab": {}
      },
      "source": [
        "import os\n",
        "import numpy as np\n",
        "import pandas as pd\n",
        "import matplotlib.pyplot as plt\n",
        "plt.style.use('seaborn-white')"
      ],
      "execution_count": 0,
      "outputs": []
    },
    {
      "cell_type": "code",
      "metadata": {
        "id": "E8xKdMokKJzR",
        "colab_type": "code",
        "colab": {}
      },
      "source": [
        "test_out_dir = \"/content/test_output/\"\n",
        "\n",
        "def read_results(robust_out):\n",
        "    '''Reads the output log files from ERAN and returns an array\n",
        "    1: Verified\n",
        "    0: Failed to verify\n",
        "    -1: model classifies wrong'''\n",
        "    img_counter = 0\n",
        "    verified_result = []\n",
        "    with open(robust_out) as f:\n",
        "        for line in f.readlines():\n",
        "            if line[:3] != 'img':\n",
        "                continue\n",
        "\n",
        "            ws = line.split()\n",
        "            try:\n",
        "                if len(ws) >= 3:\n",
        "                    if ws[2] == 'Verified':\n",
        "                        verified_result.append(1)\n",
        "                        img_counter = img_counter + 1\n",
        "                    elif ws[2] == 'Failed':\n",
        "                        verified_result.append(0)\n",
        "                        img_counter = img_counter + 1\n",
        "                    elif ws[2]+ws[3] == 'notconsidered,':\n",
        "                        verified_result.append(-1)\n",
        "                        img_counter = img_counter + 1\n",
        "                    else:\n",
        "                        print('Unknown result :::'+line)\n",
        "                        print(ws[2]+ws[3])\n",
        "                        raise\n",
        "\n",
        "            except:\n",
        "                print(\"unhandled output:::\"+line)\n",
        "                raise\n",
        "\n",
        "        return verified_result\n",
        "    \n",
        "def get_result(digit):\n",
        "    TRUCATED_PROBs = [0, 0.2, 0.4, 0.6, 0.8, 0.99]\n",
        "    epsilons = [0.000001, 0.00001, 0.0001, 0.001, 0.01, 0.1]\n",
        "    ver_result_df = pd.DataFrame()\n",
        "    for prob in TRUCATED_PROBs:\n",
        "        for eps in epsilons:\n",
        "            eps = str('{0:.7f}'.format(eps))\n",
        "            result_file = f'test{digit}_result_prob{prob}_eps{eps}.txt'\n",
        "            result_file =  test_out_dir + result_file\n",
        "            ver_result = read_results(result_file)\n",
        "            col_name = f'prob{prob}_eps{eps}'\n",
        "            ver_result_df[col_name] = ver_result\n",
        "            \n",
        "    return ver_result_df\n",
        "    \n",
        "def calculate_accuracy(df, prob, eps):\n",
        "    eps = str('{0:.7f}'.format(eps))\n",
        "    n = len(df)\n",
        "    test_out = df[f'prob{prob}_eps{eps}']\n",
        "    #results:::  \n",
        "    #1: correct and robust\n",
        "    #0: correct and not robust\n",
        "    #-1: incorrect and not verified\n",
        "    accurate_count = np.sum(test_out != -1)\n",
        "    accuracy = 100 * accurate_count/n\n",
        "    robust_acc = 0.0\n",
        "    if accurate_count != 0:\n",
        "        robust_acc = np.sum(test_out == 1)/accurate_count\n",
        "    \n",
        "    return accuracy,robust_acc\n",
        "\n",
        "\n",
        "\n",
        "def get_agg_result(digit, eps = 0.1, measure = 'accuracy'):\n",
        "    assert measure in ['accuracy','robustness'],\"mesure should be either 'accuracy' or 'robustness'\"\n",
        "    j = 0\n",
        "    if measure == 'robustness':\n",
        "        j = 1\n",
        "        \n",
        "    probs = [0, 0.2, 0.4, 0.6, 0.8, 0.99]\n",
        "    \n",
        "    r = [calculate_accuracy(results[digit], prob = p , eps = eps)[j] for p in probs]\n",
        "    return r"
      ],
      "execution_count": 0,
      "outputs": []
    },
    {
      "cell_type": "code",
      "metadata": {
        "id": "2H9CaRQ4V7F1",
        "colab_type": "code",
        "colab": {}
      },
      "source": [
        "plt.figure(figsize= (8, 6))\n",
        "probs_x = 100*np.array(probs)\n",
        "plt.plot(probs_x,get_agg_result(0), label = 0)\n",
        "plt.plot(probs_x,get_agg_result(1), label = 1)\n",
        "plt.plot(probs_x,get_agg_result(2), label = 2)\n",
        "plt.plot(probs_x,get_agg_result(3), label = 3)\n",
        "plt.plot(probs_x,get_agg_result(4), label = 4)\n",
        "plt.plot(probs_x,get_agg_result(5), label = 5)\n",
        "plt.plot(probs_x,get_agg_result(6), label = 6)\n",
        "plt.plot(probs_x,get_agg_result(7), label = 7)\n",
        "plt.plot(probs_x,get_agg_result(8), label = 8)\n",
        "plt.plot(probs_x,get_agg_result(9), label = 9)\n",
        "plt.legend(loc = 5)\n",
        "plt.xlabel(\"Percentage Drop-off Training Label 8\")\n",
        "plt.ylabel(\"Accuracy\")\n",
        "plt.title(\"DP Model Accuracy\")"
      ],
      "execution_count": 0,
      "outputs": []
    },
    {
      "cell_type": "code",
      "metadata": {
        "id": "s38n-BaCV82z",
        "colab_type": "code",
        "colab": {}
      },
      "source": [
        "def eps_plot(eps, loc = 5):\n",
        "    plt.figure(figsize= (8, 6))\n",
        "    probs_x = 100*np.array(probs)\n",
        "    plt.plot(probs_x,get_agg_result(0, measure = 'robustness', eps = eps), label = 0)\n",
        "    plt.plot(probs_x,get_agg_result(1, measure = 'robustness', eps = eps), label = 1)\n",
        "    plt.plot(probs_x,get_agg_result(2, measure = 'robustness', eps = eps), label = 2)\n",
        "    plt.plot(probs_x,get_agg_result(3, measure = 'robustness', eps = eps), label = 3)\n",
        "    plt.plot(probs_x,get_agg_result(4, measure = 'robustness', eps = eps), label = 4)\n",
        "    plt.plot(probs_x,get_agg_result(5, measure = 'robustness', eps = eps), label = 5)\n",
        "    plt.plot(probs_x,get_agg_result(6, measure = 'robustness', eps = eps), label = 6)\n",
        "    plt.plot(probs_x,get_agg_result(7, measure = 'robustness', eps = eps), label = 7)\n",
        "    plt.plot(probs_x,get_agg_result(8, measure = 'robustness', eps = eps), label = 8)\n",
        "    plt.plot(probs_x,get_agg_result(9, measure = 'robustness', eps = eps), label = 9)\n",
        "    plt.legend(loc = loc)\n",
        "    plt.title(f\"DP Robustness $\\epsilon$ = {eps}\")\n",
        "    plt.xlabel(\"Percentage Drop-off Training Label 8\")\n",
        "    plt.ylabel(\"Robustness\")\n",
        "    return(plt)"
      ],
      "execution_count": 0,
      "outputs": []
    },
    {
      "cell_type": "code",
      "metadata": {
        "id": "96vzhrY-WCG5",
        "colab_type": "code",
        "colab": {}
      },
      "source": [
        "eps_plot(0.001)"
      ],
      "execution_count": 0,
      "outputs": []
    }
  ]
}