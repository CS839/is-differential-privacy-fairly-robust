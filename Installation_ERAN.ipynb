{
  "nbformat": 4,
  "nbformat_minor": 0,
  "metadata": {
    "colab": {
      "name": "Installation_ERAN.ipynb",
      "provenance": [],
      "collapsed_sections": [],
      "toc_visible": true
    },
    "kernelspec": {
      "name": "python3",
      "display_name": "Python 3"
    }
  },
  "cells": [
    {
      "cell_type": "code",
      "metadata": {
        "id": "_FYKvtmxyBEu",
        "colab_type": "code",
        "colab": {}
      },
      "source": [
        "from google.colab import drive\n",
        "drive.mount('/content/drive')"
      ],
      "execution_count": 0,
      "outputs": []
    },
    {
      "cell_type": "code",
      "metadata": {
        "id": "sGr8p1EnBt8-",
        "colab_type": "code",
        "colab": {}
      },
      "source": [
        "!git clone https://github.com/eth-sri/ERAN.git"
      ],
      "execution_count": 0,
      "outputs": []
    },
    {
      "cell_type": "code",
      "metadata": {
        "id": "65VD2JFfEtR5",
        "colab_type": "code",
        "colab": {}
      },
      "source": [
        "%cd ERAN"
      ],
      "execution_count": 0,
      "outputs": []
    },
    {
      "cell_type": "markdown",
      "metadata": {
        "id": "EGQgkbFVFvZD",
        "colab_type": "text"
      },
      "source": [
        "### Install M4"
      ]
    },
    {
      "cell_type": "code",
      "metadata": {
        "id": "xQB0IiM8F5VP",
        "colab_type": "code",
        "colab": {}
      },
      "source": [
        "!wget ftp://ftp.gnu.org/gnu/m4/m4-1.4.1.tar.gz\n",
        "!tar -xvzf m4-1.4.1.tar.gz"
      ],
      "execution_count": 0,
      "outputs": []
    },
    {
      "cell_type": "code",
      "metadata": {
        "id": "26n4-tDlF-ff",
        "colab_type": "code",
        "colab": {}
      },
      "source": [
        "%cd m4-1.4.1"
      ],
      "execution_count": 0,
      "outputs": []
    },
    {
      "cell_type": "code",
      "metadata": {
        "id": "tHPq6n2sGTjD",
        "colab_type": "code",
        "colab": {}
      },
      "source": [
        "!./configure"
      ],
      "execution_count": 0,
      "outputs": []
    },
    {
      "cell_type": "code",
      "metadata": {
        "id": "b0ojz8fbGYer",
        "colab_type": "code",
        "colab": {}
      },
      "source": [
        "!make\n",
        "!make install"
      ],
      "execution_count": 0,
      "outputs": []
    },
    {
      "cell_type": "code",
      "metadata": {
        "id": "-ePmCiPoGihK",
        "colab_type": "code",
        "colab": {}
      },
      "source": [
        "!cp src/m4 /usr/bin"
      ],
      "execution_count": 0,
      "outputs": []
    },
    {
      "cell_type": "code",
      "metadata": {
        "id": "WMh_ccXJG-eW",
        "colab_type": "code",
        "colab": {}
      },
      "source": [
        "%cd .."
      ],
      "execution_count": 0,
      "outputs": []
    },
    {
      "cell_type": "code",
      "metadata": {
        "id": "fXzYbMWtHLd8",
        "colab_type": "code",
        "colab": {}
      },
      "source": [
        "!rm m4-1.4.1.tar.gz"
      ],
      "execution_count": 0,
      "outputs": []
    },
    {
      "cell_type": "markdown",
      "metadata": {
        "id": "JOFXlVuxHXOx",
        "colab_type": "text"
      },
      "source": [
        "### Install gmp"
      ]
    },
    {
      "cell_type": "code",
      "metadata": {
        "id": "KmwfPdNPHWOl",
        "colab_type": "code",
        "colab": {}
      },
      "source": [
        "!wget https://gmplib.org/download/gmp/gmp-6.1.2.tar.xz\n",
        "!tar -xvf gmp-6.1.2.tar.xz"
      ],
      "execution_count": 0,
      "outputs": []
    },
    {
      "cell_type": "code",
      "metadata": {
        "id": "UUV4Kr2yHQek",
        "colab_type": "code",
        "colab": {}
      },
      "source": [
        "%cd gmp-6.1.2"
      ],
      "execution_count": 0,
      "outputs": []
    },
    {
      "cell_type": "code",
      "metadata": {
        "id": "UKz7SbalHrKg",
        "colab_type": "code",
        "colab": {}
      },
      "source": [
        "!./configure --enable-cxx"
      ],
      "execution_count": 0,
      "outputs": []
    },
    {
      "cell_type": "code",
      "metadata": {
        "id": "5USCwTKrHu7P",
        "colab_type": "code",
        "colab": {}
      },
      "source": [
        "!make\n",
        "!make install"
      ],
      "execution_count": 0,
      "outputs": []
    },
    {
      "cell_type": "code",
      "metadata": {
        "id": "Qoc1P-epH5XW",
        "colab_type": "code",
        "colab": {}
      },
      "source": [
        "!make check"
      ],
      "execution_count": 0,
      "outputs": []
    },
    {
      "cell_type": "code",
      "metadata": {
        "id": "OnVJYXIyI4W-",
        "colab_type": "code",
        "colab": {}
      },
      "source": [
        "%cd .."
      ],
      "execution_count": 0,
      "outputs": []
    },
    {
      "cell_type": "code",
      "metadata": {
        "id": "_GRsOIYoJgFo",
        "colab_type": "code",
        "colab": {}
      },
      "source": [
        "!rm gmp-6.1.2.tar.xz"
      ],
      "execution_count": 0,
      "outputs": []
    },
    {
      "cell_type": "markdown",
      "metadata": {
        "id": "hQYe-vTZJkYk",
        "colab_type": "text"
      },
      "source": [
        "### Install mpfr"
      ]
    },
    {
      "cell_type": "code",
      "metadata": {
        "id": "afAYnPOcJi9h",
        "colab_type": "code",
        "colab": {}
      },
      "source": [
        "!wget https://www.mpfr.org/mpfr-current/mpfr-4.0.2.tar.xz\n",
        "!tar -xvf mpfr-4.0.2.tar.xz"
      ],
      "execution_count": 0,
      "outputs": []
    },
    {
      "cell_type": "code",
      "metadata": {
        "id": "M-upfqhOJupn",
        "colab_type": "code",
        "colab": {}
      },
      "source": [
        "%cd mpfr-4.0.2"
      ],
      "execution_count": 0,
      "outputs": []
    },
    {
      "cell_type": "code",
      "metadata": {
        "id": "VCHfZRpqJ0B3",
        "colab_type": "code",
        "colab": {}
      },
      "source": [
        "!./configure"
      ],
      "execution_count": 0,
      "outputs": []
    },
    {
      "cell_type": "code",
      "metadata": {
        "id": "EAVSIZ_qJ5ol",
        "colab_type": "code",
        "colab": {}
      },
      "source": [
        "!make\n",
        "!make install"
      ],
      "execution_count": 0,
      "outputs": []
    },
    {
      "cell_type": "code",
      "metadata": {
        "id": "4FhacCq8KAJM",
        "colab_type": "code",
        "colab": {}
      },
      "source": [
        "%cd .."
      ],
      "execution_count": 0,
      "outputs": []
    },
    {
      "cell_type": "code",
      "metadata": {
        "id": "9bb6t4jmKyri",
        "colab_type": "code",
        "colab": {}
      },
      "source": [
        "!rm mpfr-4.0.2.tar.xz"
      ],
      "execution_count": 0,
      "outputs": []
    },
    {
      "cell_type": "markdown",
      "metadata": {
        "id": "xxRljKHUK3ZH",
        "colab_type": "text"
      },
      "source": [
        "### Install ELINA"
      ]
    },
    {
      "cell_type": "code",
      "metadata": {
        "id": "qJC6wSr3K2bW",
        "colab_type": "code",
        "colab": {}
      },
      "source": [
        "!git clone https://github.com/eth-sri/ELINA.git"
      ],
      "execution_count": 0,
      "outputs": []
    },
    {
      "cell_type": "code",
      "metadata": {
        "id": "nFKEHYaQK-Az",
        "colab_type": "code",
        "colab": {}
      },
      "source": [
        "%cd ELINA"
      ],
      "execution_count": 0,
      "outputs": []
    },
    {
      "cell_type": "code",
      "metadata": {
        "id": "OU4dD5zELC80",
        "colab_type": "code",
        "colab": {}
      },
      "source": [
        "!./configure"
      ],
      "execution_count": 0,
      "outputs": []
    },
    {
      "cell_type": "code",
      "metadata": {
        "id": "OlJTRJxgLGJm",
        "colab_type": "code",
        "colab": {}
      },
      "source": [
        "!make\n",
        "!make install"
      ],
      "execution_count": 0,
      "outputs": []
    },
    {
      "cell_type": "code",
      "metadata": {
        "id": "_6o_oZMiLKnr",
        "colab_type": "code",
        "colab": {}
      },
      "source": [
        "%cd .."
      ],
      "execution_count": 0,
      "outputs": []
    },
    {
      "cell_type": "markdown",
      "metadata": {
        "id": "F6kOAVKsLWni",
        "colab_type": "text"
      },
      "source": [
        "### Install Gurobi"
      ]
    },
    {
      "cell_type": "code",
      "metadata": {
        "id": "BBSAsxknLV9S",
        "colab_type": "code",
        "colab": {}
      },
      "source": [
        "!wget https://packages.gurobi.com/9.0/gurobi9.0.0_linux64.tar.gz\n",
        "!tar -xvf gurobi9.0.0_linux64.tar.gz"
      ],
      "execution_count": 0,
      "outputs": []
    },
    {
      "cell_type": "code",
      "metadata": {
        "id": "y3B-76PzLejf",
        "colab_type": "code",
        "colab": {}
      },
      "source": [
        "%cd gurobi900/linux64/src/build"
      ],
      "execution_count": 0,
      "outputs": []
    },
    {
      "cell_type": "code",
      "metadata": {
        "id": "qDqIN5sILiKs",
        "colab_type": "code",
        "colab": {}
      },
      "source": [
        "!sed -ie 's/^C++FLAGS =.*$/& -fPIC/' Makefile\n",
        "!make"
      ],
      "execution_count": 0,
      "outputs": []
    },
    {
      "cell_type": "code",
      "metadata": {
        "id": "l9NVzwnnLmVX",
        "colab_type": "code",
        "colab": {}
      },
      "source": [
        "!cp libgurobi_c++.a ../../lib/"
      ],
      "execution_count": 0,
      "outputs": []
    },
    {
      "cell_type": "code",
      "metadata": {
        "id": "Oa-bZIetLsFe",
        "colab_type": "code",
        "colab": {}
      },
      "source": [
        "%cd ../../"
      ],
      "execution_count": 0,
      "outputs": []
    },
    {
      "cell_type": "code",
      "metadata": {
        "id": "ShNu5yfqLwCe",
        "colab_type": "code",
        "colab": {}
      },
      "source": [
        "!cp lib/libgurobi90.so /usr/lib\n",
        "!python3 setup.py install"
      ],
      "execution_count": 0,
      "outputs": []
    },
    {
      "cell_type": "code",
      "metadata": {
        "id": "EavL5kWhL4BY",
        "colab_type": "code",
        "colab": {}
      },
      "source": [
        "%cd ../../"
      ],
      "execution_count": 0,
      "outputs": []
    },
    {
      "cell_type": "markdown",
      "metadata": {
        "id": "lWcneVxkMAE7",
        "colab_type": "text"
      },
      "source": [
        "### Update environment variables:"
      ]
    },
    {
      "cell_type": "code",
      "metadata": {
        "id": "oalUkGogL_SC",
        "colab_type": "code",
        "colab": {}
      },
      "source": [
        "%env GUROBI_HOME=/content/ERAN/gurobi900/linux64\n",
        "gurobi_home = %env GUROBI_HOME\n",
        "%env PATH\n",
        "path = %env PATH\n",
        "path += ':' + gurobi_home\n",
        "print(path)\n",
        "%env PATH=$path\n",
        "ld_library_path = %env LD_LIBRARY_PATH\n",
        "ld_library_path += ':' + gurobi_home\n",
        "print(ld_library_path)\n",
        "%env LD_LIBRARY_PATH=$ld_library_path"
      ],
      "execution_count": 0,
      "outputs": []
    },
    {
      "cell_type": "markdown",
      "metadata": {
        "id": "eUTGvt1LMN05",
        "colab_type": "text"
      },
      "source": [
        "### Install DeepG"
      ]
    },
    {
      "cell_type": "code",
      "metadata": {
        "id": "_9T9UjhzL7cV",
        "colab_type": "code",
        "colab": {}
      },
      "source": [
        "!rm -r deepg\n",
        "!git clone https://github.com/eth-sri/deepg.git"
      ],
      "execution_count": 0,
      "outputs": []
    },
    {
      "cell_type": "code",
      "metadata": {
        "id": "pVLq8SyNMStz",
        "colab_type": "code",
        "colab": {}
      },
      "source": [
        "%cd deepg/code"
      ],
      "execution_count": 0,
      "outputs": []
    },
    {
      "cell_type": "code",
      "metadata": {
        "id": "xvdCYUaus_-5",
        "colab_type": "code",
        "colab": {}
      },
      "source": [
        "!sed s/81/90/ <Makefile >Makefile2\n",
        "!sed s/build/./ <Makefile2 >Makefile3\n",
        "!rm Makefile Makefile2\n",
        "!mv Makefile3 Makefile"
      ],
      "execution_count": 0,
      "outputs": []
    },
    {
      "cell_type": "code",
      "metadata": {
        "id": "SsuGgXviMVIZ",
        "colab_type": "code",
        "colab": {}
      },
      "source": [
        "!mkdir build\n",
        "!make shared_object"
      ],
      "execution_count": 0,
      "outputs": []
    },
    {
      "cell_type": "code",
      "metadata": {
        "id": "6VVrk8bvMZdt",
        "colab_type": "code",
        "colab": {}
      },
      "source": [
        "!cp ./build/libgeometric.so /usr/lib\n",
        "!cd ../.."
      ],
      "execution_count": 0,
      "outputs": []
    },
    {
      "cell_type": "code",
      "metadata": {
        "id": "7DquQcP58eWo",
        "colab_type": "code",
        "colab": {}
      },
      "source": [
        "!ldconfig"
      ],
      "execution_count": 0,
      "outputs": []
    },
    {
      "cell_type": "markdown",
      "metadata": {
        "id": "V8IC0OZEUic3",
        "colab_type": "text"
      },
      "source": [
        "\n",
        "### Install other requirements\n"
      ]
    },
    {
      "cell_type": "code",
      "metadata": {
        "id": "hSUdHZrPUqiw",
        "colab_type": "code",
        "colab": {}
      },
      "source": [
        "%cd ../.."
      ],
      "execution_count": 0,
      "outputs": []
    },
    {
      "cell_type": "code",
      "metadata": {
        "id": "FW3WRZXpUgJI",
        "colab_type": "code",
        "colab": {}
      },
      "source": [
        "!sed \"s/tensorflow/tensorflow<2/\" <requirements.txt >requirements2.txt\n",
        "!rm requirements.txt\n",
        "!mv requirements2.txt requirements.txt\n",
        "!pip3 install -r requirements.txt"
      ],
      "execution_count": 0,
      "outputs": []
    },
    {
      "cell_type": "markdown",
      "metadata": {
        "id": "azR5EtzBMg7d",
        "colab_type": "text"
      },
      "source": [
        "Test DP-trained MNIST\n",
        "=="
      ]
    },
    {
      "cell_type": "code",
      "metadata": {
        "id": "F-RdgcTYRYeq",
        "colab_type": "code",
        "colab": {}
      },
      "source": [
        "%cd /content/ERAN/tf_verify"
      ],
      "execution_count": 0,
      "outputs": []
    },
    {
      "cell_type": "code",
      "metadata": {
        "id": "-UBxdY1QJMGB",
        "colab_type": "code",
        "colab": {}
      },
      "source": [
        "limit = [20, 20, 20, 20, 20, 20, 20, 20, 180, 20]\n",
        "\n",
        "import csv\n",
        "import os\n",
        "\n",
        "cts = [0] * 10\n",
        "r = csv.reader(open('/content/sample_data/mnist_test.csv'))\n",
        "os.makedirs('/content/mnist_test')\n",
        "for row in r:\n",
        "  label = int(row[0])\n",
        "  if cts[label] < limit[label]:\n",
        "    csv.writer(open(f'/content/mnist_test/{label}_{cts[label]}', 'w')).writerow(row)\n",
        "    cts[label] += 1"
      ],
      "execution_count": 0,
      "outputs": []
    },
    {
      "cell_type": "code",
      "metadata": {
        "id": "f_qfX1sONwZq",
        "colab_type": "code",
        "colab": {}
      },
      "source": [
        "highest_alpha = 0.05\n",
        "threshold = 0.0001\n",
        "\n",
        "def find_smallest_robustness_alpha(tf_filename, test_image_filename, out_filename):\n",
        "  with open(out_filename, 'a') as out_f:\n",
        "    tf_pcs = tf_filename.split('/')[-1].split('_')\n",
        "    truncate_proportion = tf_pcs[1]\n",
        "    l2_norm_clip = tf_pcs[2]\n",
        "    noise_multiplier = tf_pcs[3]\n",
        "    dp_epsilon = tf_pcs[4]\n",
        "    label = test_image_filename.split('/')[-1].split('_')[0]\n",
        "    out_f.write(f'{truncate_proportion}, {l2_norm_clip}, {noise_multiplier}, {dp_epsilon}, {label}, {find_smallest_robustness_alpha_recursive(tf_filename, test_image_filename, 0, highest_alpha)}\\n')\n",
        "\n",
        "import subprocess\n",
        "import shutil\n",
        "\n",
        "def find_smallest_robustness_alpha_recursive(tf_filename, test_image_filename, lower_alpha, upper_alpha):\n",
        "  if upper_alpha - lower_alpha < threshold:\n",
        "    return (upper_alpha + lower_alpha) / 2\n",
        "\n",
        "  shutil.copyfile(test_image_filename, '/content/ERAN/data/mnist_test.csv')\n",
        "  result = subprocess.run(f'python3 . --netname \"{tf_filename}\" --epsilon {(upper_alpha + lower_alpha) / 2} --domain deepzono --dataset mnist',\n",
        "                          stdout=subprocess.PIPE,\n",
        "                          stderr=subprocess.PIPE,\n",
        "                          shell=True)\n",
        "  if 'Failed' in result.stdout.decode('utf-8'):\n",
        "    return find_smallest_robustness_alpha_recursive(tf_filename, test_image_filename, lower_alpha, (upper_alpha + lower_alpha) / 2)\n",
        "  elif 'Verified' in result.stdout.decode('utf-8'):\n",
        "    return find_smallest_robustness_alpha_recursive(tf_filename, test_image_filename, (upper_alpha + lower_alpha) / 2, upper_alpha)\n",
        "  else:\n",
        "    return -1"
      ],
      "execution_count": 0,
      "outputs": []
    },
    {
      "cell_type": "code",
      "metadata": {
        "id": "ak9y3iV1U6Hr",
        "colab_type": "code",
        "colab": {}
      },
      "source": [
        "import os\n",
        "\n",
        "tf_list = [# LIST OF .TF FILENAMES IN /content/drive/My Drive/cs839004\n",
        "           ]\n",
        "\n",
        "start_at = 0\n",
        "try:\n",
        "  with open('/content/drive/My Drive/cs839004_results.csv', 'r') as f:\n",
        "    start_at = len(f.readlines())\n",
        "except:\n",
        "  pass\n",
        "print('Starting at ' + str(start_at))\n",
        "current = 0\n",
        "\n",
        "for tf_entry in tf_list:\n",
        "  with os.scandir('/content/mnist_test') as test_d:\n",
        "    for test_image_entry in test_d:\n",
        "      if current < start_at:\n",
        "        current += 1\n",
        "        continue\n",
        "      print(current)\n",
        "      find_smallest_robustness_alpha('/content/drive/My Drive/cs839004/' + tf_entry, '/content/mnist_test/' + test_image_entry.name, '/content/drive/My Drive/cs839004_results.csv')\n",
        "      current += 1"
      ],
      "execution_count": 0,
      "outputs": []
    }
  ]
}